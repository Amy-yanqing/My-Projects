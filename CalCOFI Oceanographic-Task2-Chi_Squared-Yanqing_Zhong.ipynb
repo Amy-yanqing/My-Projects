{
 "cells": [
  {
   "cell_type": "markdown",
   "metadata": {},
   "source": [
    "# First Name:Yanqing\n",
    "# Last Name: Zhong"
   ]
  },
  {
   "cell_type": "markdown",
   "metadata": {},
   "source": [
    "# Import Libraries  "
   ]
  },
  {
   "cell_type": "code",
   "execution_count": 12,
   "metadata": {},
   "outputs": [],
   "source": [
    "import pandas as pd\n",
    "import numpy as np\n",
    "import scipy.stats  \n",
    "import seaborn as sns\n",
    "import matplotlib.pyplot as plt"
   ]
  },
  {
   "cell_type": "markdown",
   "metadata": {},
   "source": [
    "# Import Data"
   ]
  },
  {
   "cell_type": "code",
   "execution_count": 13,
   "metadata": {},
   "outputs": [
    {
     "name": "stdout",
     "output_type": "stream",
     "text": [
      "864863\n"
     ]
    }
   ],
   "source": [
    "bottle=pd.read_csv('bottle.csv',low_memory=False)\n",
    "pd.set_option('display.float_format',lambda x:'%f'%x)\n",
    "print(len(bottle)) #number of rows (observations)"
   ]
  },
  {
   "cell_type": "markdown",
   "metadata": {},
   "source": [
    "# Data management "
   ]
  },
  {
   "cell_type": "code",
   "execution_count": 14,
   "metadata": {},
   "outputs": [],
   "source": [
    "# Convert variable to numeric\n",
    "bottle['Depthm']=pd.to_numeric(bottle['Depthm'],errors='coerce') \n",
    "bottle['R_PRES']=pd.to_numeric(bottle['R_PRES'],errors='coerce')\n",
    "bottle['O2ml_L']=pd.to_numeric(bottle['O2ml_L'],errors='coerce')"
   ]
  },
  {
   "cell_type": "code",
   "execution_count": 15,
   "metadata": {},
   "outputs": [],
   "source": [
    "# Convert Quality code variable to numeric\n",
    "bottle['P_qual']=pd.to_numeric(bottle['P_qual'],errors='coerce')\n",
    "bottle['O_qual']=pd.to_numeric(bottle['O_qual'],errors='coerce') "
   ]
  },
  {
   "cell_type": "code",
   "execution_count": 16,
   "metadata": {},
   "outputs": [],
   "source": [
    "# Replace null values\n",
    "bottle['P_qual'].replace('null', np.nan, inplace=True)\n",
    "bottle['O_qual'].replace('null', np.nan, inplace=True)"
   ]
  },
  {
   "cell_type": "markdown",
   "metadata": {},
   "source": [
    "# Create a subset"
   ]
  },
  {
   "cell_type": "markdown",
   "metadata": {},
   "source": [
    "### Depth from 50-150, selecting only Oxygen, and Pressure data \n",
    "### both from  OK Date and data taken from a CTD device"
   ]
  },
  {
   "cell_type": "code",
   "execution_count": 17,
   "metadata": {},
   "outputs": [],
   "source": [
    "sub1 = bottle[(bottle['Depthm'] > 50) & \n",
    "              (bottle['Depthm'] <= 150) & \n",
    "              ((bottle['O_qual'].isnull()) | (bottle['O_qual'] == 6))&\n",
    "              ((bottle['P_qual'].isnull()) | (bottle['P_qual'] == 6))]"
   ]
  },
  {
   "cell_type": "code",
   "execution_count": 18,
   "metadata": {},
   "outputs": [
    {
     "name": "stdout",
     "output_type": "stream",
     "text": [
      "58533\n"
     ]
    }
   ],
   "source": [
    "sub2=sub1.copy()\n",
    "print(len(sub2))"
   ]
  },
  {
   "cell_type": "markdown",
   "metadata": {},
   "source": [
    "# Chart/Plot"
   ]
  },
  {
   "cell_type": "code",
   "execution_count": 19,
   "metadata": {},
   "outputs": [],
   "source": [
    "# Generate the pressure categories from pressure numerica variable\n",
    "sub2['PRES_Category'] = pd.cut(sub2.R_PRES, [50, 70, 90, 110,130,150],\n",
    "                                labels=['low', 'medium-low','medium ', 'medium-high ', 'high '])\n",
    "\n",
    "sub2['PRES_Category']=sub2['PRES_Category'].astype('category')"
   ]
  },
  {
   "cell_type": "markdown",
   "metadata": {},
   "source": [
    "# Create a new variable（Oxygen_level）"
   ]
  },
  {
   "cell_type": "markdown",
   "metadata": {},
   "source": [
    "### Oxygen_level that categorizes the Oxygen numeric variable（O2ml_L） \n",
    "### into two categories: high(1) and low(0）"
   ]
  },
  {
   "cell_type": "code",
   "execution_count": 20,
   "metadata": {},
   "outputs": [
    {
     "name": "stdout",
     "output_type": "stream",
     "text": [
      "Oxygen_level\n",
      "0    31717\n",
      "1    26816\n",
      "dtype: int64\n"
     ]
    }
   ],
   "source": [
    "def Oxygen_level (row):\n",
    "    if row['O2ml_L']>=4.75 : # high oxygen level return 1\n",
    "        return 1\n",
    "    elif row['O2ml_L'] < 4.75 : # low oxygen level return 0\n",
    "        return 0\n",
    "\n",
    "sub2['Oxygen_level']=sub2.apply(lambda row:Oxygen_level (row),axis=1)\n",
    "\n",
    "c1=sub2.groupby('Oxygen_level').size()\n",
    "print(c1)"
   ]
  },
  {
   "cell_type": "markdown",
   "metadata": {},
   "source": [
    "# Contingency table of observed counts "
   ]
  },
  {
   "cell_type": "markdown",
   "metadata": {},
   "source": [
    "### between Oxygen concentration level (Oxygen_level) and Pressure categories (PRES_Category)"
   ]
  },
  {
   "cell_type": "code",
   "execution_count": 21,
   "metadata": {},
   "outputs": [
    {
     "name": "stdout",
     "output_type": "stream",
     "text": [
      "PRES_Category   low  medium-low  medium   medium-high   high \n",
      "Oxygen_level                                                 \n",
      "0              5502        6102     5587          7039   6088\n",
      "1              9975        7801     4676          3183   1059\n"
     ]
    }
   ],
   "source": [
    "ct1=pd.crosstab(sub2['Oxygen_level'],sub2['PRES_Category'])\n",
    "print(ct1)"
   ]
  },
  {
   "cell_type": "markdown",
   "metadata": {},
   "source": [
    "# Contingency table of observed percentages "
   ]
  },
  {
   "cell_type": "markdown",
   "metadata": {},
   "source": [
    "### between Oxygen concentration level (Oxygen_level) and Pressure categories (PRES_Category)"
   ]
  },
  {
   "cell_type": "code",
   "execution_count": 22,
   "metadata": {},
   "outputs": [
    {
     "name": "stdout",
     "output_type": "stream",
     "text": [
      "PRES_Category      low  medium-low  medium   medium-high     high \n",
      "Oxygen_level                                                      \n",
      "0             0.355495    0.438898 0.544383      0.688613 0.851826\n",
      "1             0.644505    0.561102 0.455617      0.311387 0.148174\n"
     ]
    }
   ],
   "source": [
    "colsum=ct1.sum(axis=0)\n",
    "clopct=ct1/colsum\n",
    "print(clopct)"
   ]
  },
  {
   "cell_type": "markdown",
   "metadata": {},
   "source": [
    "# Chi-square analysis "
   ]
  },
  {
   "cell_type": "markdown",
   "metadata": {},
   "source": [
    "### between Oxygen concentration level (Oxygen_level) and Pressure categories (PRES_Category)"
   ]
  },
  {
   "cell_type": "code",
   "execution_count": 23,
   "metadata": {},
   "outputs": [
    {
     "name": "stdout",
     "output_type": "stream",
     "text": [
      "chi-square value, p value, expected counts\n",
      "(6369.852645882526, 0.0, 4, array([[8230.40212587, 7393.3760261 , 5457.68669754, 5435.88360345,\n",
      "        3800.65154704],\n",
      "       [7246.59787413, 6509.6239739 , 4805.31330246, 4786.11639655,\n",
      "        3346.34845296]]))\n"
     ]
    }
   ],
   "source": [
    "print ('chi-square value, p value, expected counts')\n",
    "cs1= scipy.stats.chi2_contingency(ct1)\n",
    "print (cs1)"
   ]
  },
  {
   "cell_type": "markdown",
   "metadata": {},
   "source": [
    "# Bar plot to show relationship "
   ]
  },
  {
   "cell_type": "markdown",
   "metadata": {},
   "source": [
    "### between Oxygen concentration level (Oxygen_level) and Pressure categories (PRES_Category)"
   ]
  },
  {
   "cell_type": "code",
   "execution_count": 24,
   "metadata": {},
   "outputs": [
    {
     "data": {
      "text/plain": [
       "Text(9.444444444444445, 0.5, 'Proportion high oxygen concentration level')"
      ]
     },
     "execution_count": 24,
     "metadata": {},
     "output_type": "execute_result"
    },
    {
     "data": {
      "image/png": "[encoded data removed]",
      "text/plain": [
       "<Figure size 500x500 with 1 Axes>"
      ]
     },
     "metadata": {},
     "output_type": "display_data"
    }
   ],
   "source": [
    "%matplotlib inline\n",
    "sns.catplot(x=\"PRES_Category\", y=\"Oxygen_level\", data=sub2, kind=\"bar\", ci=None)\n",
    "plt.title('Bar plot of Oxygen Levels by Pressure Category ')\n",
    "plt.xlabel('Pressure Category')\n",
    "plt.ylabel('Proportion high oxygen concentration level') # 1 is high level, 0 is low level"
   ]
  },
  {
   "cell_type": "markdown",
   "metadata": {},
   "source": [
    "# Post-hoc analysis"
   ]
  },
  {
   "cell_type": "code",
   "execution_count": 25,
   "metadata": {},
   "outputs": [
    {
     "name": "stdout",
     "output_type": "stream",
     "text": [
      "\n",
      " low  versus  medium-low Chi value:  212.8411608001619 \t\tp value:  3.296282235016448e-48\n",
      "\n",
      " low  versus  medium  Chi value:  897.105860743646 \t\tp value:  4.1780434105978054e-197\n",
      "\n",
      " low  versus  medium-high  Chi value:  2732.750888972702 \t\tp value:  0.0\n",
      "\n",
      " low  versus  high  Chi value:  4818.665905769131 \t\tp value:  0.0\n",
      "\n",
      " medium-low  versus  medium  Chi value:  262.65222444179597 \t\tp value:  4.533207585776557e-59\n",
      "\n",
      " medium-low  versus  medium-high  Chi value:  1480.1842353985678 \t\tp value:  0.0\n",
      "\n",
      " medium-low  versus  high  Chi value:  3300.4451168188507 \t\tp value:  0.0\n",
      "\n",
      " medium   versus  medium-high  Chi value:  449.92125619916993 \t\tp value:  7.503301788309497e-100\n",
      "\n",
      " medium   versus  high  Chi value:  1801.3620925680425 \t\tp value:  0.0\n",
      "\n",
      " medium-high   versus  high  Chi value:  606.1438998644234 \t\tp value:  7.717260507540945e-134\n"
     ]
    }
   ],
   "source": [
    "sub3=sub2.copy()\n",
    "cat=['low', 'medium-low','medium ', 'medium-high ', 'high ']\n",
    "\n",
    "for x in range(0,len(cat)-1):\n",
    "    for y in range(x+1,len(cat)):\n",
    "        recode = { cat[x]:cat[x], cat[y]:cat[y]}\n",
    "        sub3['temp'] = sub3['PRES_Category'].map(recode)\n",
    "        cont=pd.crosstab(sub3['Oxygen_level'], sub3['temp'])\n",
    "        cs= scipy.stats.chi2_contingency(cont)\n",
    "        print(\"\\n\", cat[x], \" versus \", cat[y],\n",
    "              \"Chi value: \", cs[0], \"\\t\\tp value: \", cs[1])\n"
   ]
  },
  {
   "cell_type": "code",
   "execution_count": null,
   "metadata": {},
   "outputs": [],
   "source": []
  }
 ],
 "metadata": {
  "kernelspec": {
   "display_name": "Python 3 (ipykernel)",
   "language": "python",
   "name": "python3"
  },
  "language_info": {
   "codemirror_mode": {
    "name": "ipython",
    "version": 3
   },
   "file_extension": ".py",
   "mimetype": "text/x-python",
   "name": "python",
   "nbconvert_exporter": "python",
   "pygments_lexer": "ipython3",
   "version": "3.9.13"
  }
 },
 "nbformat": 4,
 "nbformat_minor": 2
}
